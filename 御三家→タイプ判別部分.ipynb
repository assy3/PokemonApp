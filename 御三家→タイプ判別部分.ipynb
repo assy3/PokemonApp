{
  "nbformat": 4,
  "nbformat_minor": 0,
  "metadata": {
    "colab": {
      "name": "御三家→タイプ判別部分.ipynb",
      "version": "0.3.2",
      "provenance": [],
      "include_colab_link": true
    },
    "kernelspec": {
      "name": "python3",
      "display_name": "Python 3"
    }
  },
  "cells": [
    {
      "cell_type": "markdown",
      "metadata": {
        "id": "view-in-github",
        "colab_type": "text"
      },
      "source": [
        "<a href=\"https://colab.research.google.com/github/nalgo-intern/team-b/blob/master/%E5%BE%A1%E4%B8%89%E5%AE%B6%E2%86%92%E3%82%BF%E3%82%A4%E3%83%97%E5%88%A4%E5%88%A5%E9%83%A8%E5%88%86.ipynb\" target=\"_parent\"><img src=\"https://colab.research.google.com/assets/colab-badge.svg\" alt=\"Open In Colab\"/></a>"
      ]
    },
    {
      "cell_type": "code",
      "metadata": {
        "id": "E9NcY6l0zT3K",
        "colab_type": "code",
        "colab": {}
      },
      "source": [
        "!cp -r drive/My\\ Drive/learned* ."
      ],
      "execution_count": 0,
      "outputs": []
    },
    {
      "cell_type": "code",
      "metadata": {
        "id": "B7CbtfEXzUKC",
        "colab_type": "code",
        "outputId": "b883d7ac-8ffc-41bf-aa36-60ae6e6e9422",
        "colab": {
          "base_uri": "https://localhost:8080/",
          "height": 51
        }
      },
      "source": [
        "from keras import models\n",
        "import numpy as np\n",
        "import pandas as pd\n",
        "from keras.preprocessing import image\n",
        "from keras.models import model_from_json\n",
        "from keras import backend as K\n",
        "\n",
        "def gosanke_func(img_path):\n",
        "    K.clear_session()\n",
        "    gosanke =(\"フシギダネ\", \"ヒトカゲ\", \"ゼニガメ\",\n",
        "          \"チコリータ\", \"ヒノアラシ\", \"ワニノコ\",\n",
        "          \"キモリ\", \"アチャモ\", \"ミズゴロウ\",\n",
        "          \"ナエトル\", \"ヒコザル\", \"ポッチャマ\",\n",
        "          \"ツタージャ\", \"ポカブ\", \"ミジュマル\",\n",
        "          \"ハリマロン\", \"フォッコ\", \"ケロマツ\",\n",
        "          \"モクロー\", \"ニャビー\", \"アシマリ\",\n",
        "          \"サルノリ\", \"ヒバニー\", \"メッソン\")\n",
        "\n",
        "    model = model_from_json(open('./learned_data_gosanke/data_gosanke.json').read())\n",
        "    model.load_weights('./learned_data_gosanke/data_gosanke.hdf5')\n",
        "\n",
        "    img_path = img_path \n",
        "    img = image.load_img(img_path, target_size=(120,120,3))\n",
        "    x = image.img_to_array(img)\n",
        "    x = np.expand_dims(x, axis=0)\n",
        "\n",
        "    features = model.predict(x)\n",
        "    i = np.argmax(features[0])\n",
        "\n",
        "    output = \"この画像はポケモン御三家の中では\" + gosanke[i] +\"に似てます\"\n",
        "\n",
        "    return output\n",
        "    \n",
        "def type_func(img_path):    \n",
        "    K.clear_session()\n",
        "    types = (\"ノーマル\", \"ほのお\", \"みず\", \"くさ\", \"でんき\", \"こおり\", \"かくとう\", \"どく\", \"じめん\", \"ひこう\", \"エスパー\", \"むし\", \"いわ\", \"ゴースト\", \"ドラゴン\")\n",
        "\n",
        "    model = model_from_json(open('./learned_data/data.json').read())\n",
        "    model.load_weights('./learned_data/data.hdf5')\n",
        "\n",
        "    img_path = img_path \n",
        "    img = image.load_img(img_path, target_size=(120,120,3))\n",
        "    x = image.img_to_array(img)\n",
        "    x = np.expand_dims(x, axis=0)\n",
        "\n",
        "    features = model.predict(x)\n",
        "    i = np.argmax(features[0])\n",
        "\n",
        "    output = \"この画像は\" + types[i] + \"タイプのポケモンぽいです\"\n",
        "    \n",
        "    return output\n",
        "    \n",
        "def result_func(filepath):\n",
        "    gosanke_result = gosanke_func(filepath)\n",
        "    type_result = type_func(filepath)\n",
        "    return gosanke_result, type_result\n",
        "\n",
        "if __name__ == '__main__':\n",
        "    filepath = \"s002_697.jpg\"\n",
        "    gosanke_result, type_result = result_func(filepath)\n",
        "    print(gosanke_result + \"\\n\" + type_result)"
      ],
      "execution_count": 53,
      "outputs": [
        {
          "output_type": "stream",
          "text": [
            "この画像はポケモン御三家の中ではアチャモに似てます\n",
            "この画像はほのおタイプのポケモンぽいです\n"
          ],
          "name": "stdout"
        }
      ]
    },
    {
      "cell_type": "code",
      "metadata": {
        "id": "FDTSfIzfzJ0r",
        "colab_type": "code",
        "outputId": "c73f2a94-b624-43c5-e57c-3fbdf2053c9e",
        "colab": {
          "base_uri": "https://localhost:8080/",
          "height": 122
        }
      },
      "source": [
        "from google.colab import drive\n",
        "drive.mount('/content/drive')"
      ],
      "execution_count": 0,
      "outputs": [
        {
          "output_type": "stream",
          "text": [
            "Go to this URL in a browser: https://accounts.google.com/o/oauth2/auth?client_id=947318989803-6bn6qk8qdgf4n4g3pfee6491hc0brc4i.apps.googleusercontent.com&redirect_uri=urn%3Aietf%3Awg%3Aoauth%3A2.0%3Aoob&scope=email%20https%3A%2F%2Fwww.googleapis.com%2Fauth%2Fdocs.test%20https%3A%2F%2Fwww.googleapis.com%2Fauth%2Fdrive%20https%3A%2F%2Fwww.googleapis.com%2Fauth%2Fdrive.photos.readonly%20https%3A%2F%2Fwww.googleapis.com%2Fauth%2Fpeopleapi.readonly&response_type=code\n",
            "\n",
            "Enter your authorization code:\n",
            "··········\n",
            "Mounted at /content/drive\n"
          ],
          "name": "stdout"
        }
      ]
    }
  ]
}