{
  "nbformat": 4,
  "nbformat_minor": 0,
  "metadata": {
    "colab": {
      "name": "御三家学習.ipynb",
      "version": "0.3.2",
      "provenance": [],
      "toc_visible": true,
      "machine_shape": "hm",
      "include_colab_link": true
    },
    "kernelspec": {
      "name": "python3",
      "display_name": "Python 3"
    },
    "accelerator": "GPU"
  },
  "cells": [
    {
      "cell_type": "markdown",
      "metadata": {
        "id": "view-in-github",
        "colab_type": "text"
      },
      "source": [
        "<a href=\"https://colab.research.google.com/github/nalgo-intern/team-b/blob/master/%E5%BE%A1%E4%B8%89%E5%AE%B6%E5%AD%A6%E7%BF%92.ipynb\" target=\"_parent\"><img src=\"https://colab.research.google.com/assets/colab-badge.svg\" alt=\"Open In Colab\"/></a>"
      ]
    },
    {
      "cell_type": "markdown",
      "metadata": {
        "id": "dI3qEKO9RZzG",
        "colab_type": "text"
      },
      "source": [
        "#driveからデータを取得"
      ]
    },
    {
      "cell_type": "code",
      "metadata": {
        "id": "s2qcKtYZOdvE",
        "colab_type": "code",
        "outputId": "f9c6cfde-0f29-4008-a0be-d37996deadd3",
        "colab": {
          "base_uri": "https://localhost:8080/",
          "height": 122
        }
      },
      "source": [
        "from google.colab import drive\n",
        "drive.mount('/content/drive')"
      ],
      "execution_count": 0,
      "outputs": [
        {
          "output_type": "stream",
          "text": [
            "Go to this URL in a browser: https://accounts.google.com/o/oauth2/auth?client_id=947318989803-6bn6qk8qdgf4n4g3pfee6491hc0brc4i.apps.googleusercontent.com&redirect_uri=urn%3Aietf%3Awg%3Aoauth%3A2.0%3Aoob&scope=email%20https%3A%2F%2Fwww.googleapis.com%2Fauth%2Fdocs.test%20https%3A%2F%2Fwww.googleapis.com%2Fauth%2Fdrive%20https%3A%2F%2Fwww.googleapis.com%2Fauth%2Fdrive.photos.readonly%20https%3A%2F%2Fwww.googleapis.com%2Fauth%2Fpeopleapi.readonly&response_type=code\n",
            "\n",
            "Enter your authorization code:\n",
            "··········\n",
            "Mounted at /content/drive\n"
          ],
          "name": "stdout"
        }
      ]
    },
    {
      "cell_type": "code",
      "metadata": {
        "id": "tHku4nfJX1wN",
        "colab_type": "code",
        "colab": {}
      },
      "source": [
        "!cp -R /content/drive/My\\ Drive/dataset2 /content/\n",
        "!mkdir learned_data_gosanke"
      ],
      "execution_count": 0,
      "outputs": []
    },
    {
      "cell_type": "markdown",
      "metadata": {
        "id": "GKwtRStHC1wQ",
        "colab_type": "text"
      },
      "source": [
        "#水増し"
      ]
    },
    {
      "cell_type": "code",
      "metadata": {
        "id": "zk-iX7BGCrg6",
        "colab_type": "code",
        "outputId": "f5f722d0-3dd7-4dfb-9118-045c38900e15",
        "colab": {
          "base_uri": "https://localhost:8080/",
          "height": 442
        }
      },
      "source": [
        "#画像の水増し\n",
        "\n",
        "import os\n",
        "import glob\n",
        "import numpy as np\n",
        "from keras.preprocessing.image import ImageDataGenerator, load_img, img_to_array, array_to_img\n",
        "\n",
        "# 画像を拡張する関数\n",
        "def draw_images(generator, x, dir_name, index):\n",
        "    save_name = 'extened-' + str(index)\n",
        "    g = generator.flow(x, batch_size=1, save_to_dir=output_dir,\n",
        "                       save_prefix=save_name, save_format='jpg')\n",
        "\n",
        "    # 1つの入力画像から何枚拡張するかを指定（今回は50枚）\n",
        "    for i in range(50):\n",
        "        bach = g.next()\n",
        "\n",
        "gosanke=[\"Fushigidane\", \"Hitokage\", \"Zenigame\",\n",
        "         \"Chikorita\", \"Hinoarashi\", \"Waninoko\",\n",
        "         \"Kimori\", \"Achamo\", \"Mizugoro\",\n",
        "         \"Naetoru\", \"Hikozaru\", \"Pochama\",\n",
        "         \"Tsutaja\", \"Pokabu\", \"Mijumaru\",\n",
        "         \"Harimaron\", \"Fokko\", \"Keromatu\",\n",
        "         \"Mokuro\", \"Nyabii\", \"Ashimari\",\n",
        "         \"Sarunori\", \"Hibanii\", \"Messon\"]\n",
        "base_dir = './dataset2/'\n",
        "for i in gosanke:\n",
        "    print(i)\n",
        "    # 出力先ディレクトリの設定\n",
        "    output_dir = base_dir + i\n",
        "    \n",
        "    if not(os.path.exists(output_dir)):\n",
        "        os.mkdir(output_dir)\n",
        "    \n",
        "    # 拡張する画像の読み込み\n",
        "    images = glob.glob(os.path.join(base_dir + i, \"*.jpg\"))\n",
        "    \n",
        "    # ImageDataGeneratorを定義\n",
        "    datagen = ImageDataGenerator(rotation_range=30,\n",
        "                                width_shift_range=20,\n",
        "                                height_shift_range=0.,\n",
        "                                zoom_range=0.1,\n",
        "                                horizontal_flip=True,\n",
        "                                vertical_flip=True)\n",
        "    \n",
        "    # 読み込んだ画像を順に拡張\n",
        "    for i in range(len(images)):\n",
        "        img = load_img(images[i])\n",
        "        img = img.resize((250, 250))\n",
        "        x = img_to_array(img)\n",
        "        x = np.expand_dims(x, axis=0)\n",
        "        draw_images(datagen, x, output_dir, i)"
      ],
      "execution_count": 0,
      "outputs": [
        {
          "output_type": "stream",
          "text": [
            "Using TensorFlow backend.\n"
          ],
          "name": "stderr"
        },
        {
          "output_type": "stream",
          "text": [
            "Fushigidane\n",
            "Hitokage\n",
            "Zenigame\n",
            "Chikorita\n",
            "Hinoarashi\n",
            "Waninoko\n",
            "Kimori\n",
            "Achamo\n",
            "Mizugoro\n",
            "Naetoru\n",
            "Hikozaru\n",
            "Pochama\n",
            "Tsutaja\n",
            "Pokabu\n",
            "Mijumaru\n",
            "Harimaron\n",
            "Fokko\n",
            "Keromatu\n",
            "Mokuro\n",
            "Nyabii\n",
            "Ashimari\n",
            "Sarunori\n",
            "Hibanii\n",
            "Messon\n"
          ],
          "name": "stdout"
        }
      ]
    },
    {
      "cell_type": "markdown",
      "metadata": {
        "id": "EkJT-kQnRepn",
        "colab_type": "text"
      },
      "source": [
        "#データセットを作成"
      ]
    },
    {
      "cell_type": "code",
      "metadata": {
        "colab_type": "code",
        "outputId": "058febdd-56f7-4d74-c8f5-06ebb9f6f627",
        "id": "g5qVVHWZWpY7",
        "colab": {
          "base_uri": "https://localhost:8080/",
          "height": 297
        }
      },
      "source": [
        "!pip install -U numpy"
      ],
      "execution_count": 0,
      "outputs": [
        {
          "output_type": "stream",
          "text": [
            "Collecting numpy\n",
            "\u001b[?25l  Downloading https://files.pythonhosted.org/packages/75/92/57179ed45307ec6179e344231c47da7f3f3da9e2eee5c8ab506bd279ce4e/numpy-1.17.1-cp36-cp36m-manylinux1_x86_64.whl (20.4MB)\n",
            "\u001b[K     |████████████████████████████████| 20.4MB 2.8MB/s \n",
            "\u001b[31mERROR: datascience 0.10.6 has requirement folium==0.2.1, but you'll have folium 0.8.3 which is incompatible.\u001b[0m\n",
            "\u001b[31mERROR: albumentations 0.1.12 has requirement imgaug<0.2.7,>=0.2.5, but you'll have imgaug 0.2.9 which is incompatible.\u001b[0m\n",
            "\u001b[?25hInstalling collected packages: numpy\n",
            "  Found existing installation: numpy 1.16.4\n",
            "    Uninstalling numpy-1.16.4:\n",
            "      Successfully uninstalled numpy-1.16.4\n",
            "Successfully installed numpy-1.17.1\n"
          ],
          "name": "stdout"
        },
        {
          "output_type": "display_data",
          "data": {
            "application/vnd.colab-display-data+json": {
              "pip_warning": {
                "packages": [
                  "numpy"
                ]
              }
            }
          },
          "metadata": {
            "tags": []
          }
        }
      ]
    },
    {
      "cell_type": "code",
      "metadata": {
        "id": "CqRnDb_56vBZ",
        "colab_type": "code",
        "colab": {}
      },
      "source": [
        "from PIL import Image\n",
        "import os, glob\n",
        "import numpy as np\n",
        "import random, math\n",
        "\n",
        "root_dir = \"./dataset2\"\n",
        "gosanke =[\"Fushigidane\", \"Hitokage\", \"Zenigame\",\n",
        "          \"Chikorita\", \"Hinoarashi\", \"Waninoko\",\n",
        "          \"Kimori\", \"Achamo\", \"Mizugoro\",\n",
        "          \"Naetoru\", \"Hikozaru\", \"Pochama\",\n",
        "          \"Tsutaja\", \"Pokabu\", \"Mijumaru\",\n",
        "          \"Harimaron\", \"Fokko\", \"Keromatu\",\n",
        "          \"Mokuro\", \"Nyabii\", \"Ashimari\",\n",
        "          \"Sarunori\", \"Hibanii\", \"Messon\"]\n",
        "X = []\n",
        "Y = []\n",
        "\n",
        "def make_sample(files):\n",
        "    global X, Y\n",
        "    X = []\n",
        "    Y = []\n",
        "    for cat, fname in files:\n",
        "        add_sample(cat, fname)\n",
        "    return np.array(X), np.array(Y)\n",
        "\n",
        "\n",
        "def add_sample(cat, fname):\n",
        "    img = Image.open(fname)\n",
        "    img = img.convert(\"RGB\")\n",
        "    img = img.resize((120, 120))\n",
        "    data = np.asarray(img)\n",
        "    X.append(data)\n",
        "    Y.append(cat)\n",
        "\n",
        "allfiles = []\n",
        "\n",
        "for idx, cat in enumerate(gosanke):\n",
        "    image_dir = root_dir + \"/\" + cat\n",
        "    files = glob.glob(image_dir + \"/*.jpg\")\n",
        "    for f in files:\n",
        "        allfiles.append((idx, f))\n",
        "\n",
        "random.shuffle(allfiles)\n",
        "th = math.floor(len(allfiles) * 0.7)\n",
        "train = allfiles[0:th]\n",
        "test = allfiles[th:]\n",
        "X_train, y_train = make_sample(train)\n",
        "np.save(\"./dataset2_X_train.npy\", X_train)\n",
        "np.save(\"./dataset2_y_train.npy\", y_train)\n",
        "X_test, y_test = make_sample(test)\n",
        "np.save(\"./dataset2_X_test.npy\", X_test)\n",
        "np.save(\"./dataset2_y_test.npy\", y_test)"
      ],
      "execution_count": 0,
      "outputs": []
    },
    {
      "cell_type": "markdown",
      "metadata": {
        "id": "n0H8LUHSRjhu",
        "colab_type": "text"
      },
      "source": [
        "#学習"
      ]
    },
    {
      "cell_type": "code",
      "metadata": {
        "id": "lGW91eazHR9d",
        "colab_type": "code",
        "outputId": "e6afed57-783b-4ddb-a505-306e269de64f",
        "colab": {
          "base_uri": "https://localhost:8080/",
          "height": 297
        }
      },
      "source": [
        "!pip install numpy==1.16.2"
      ],
      "execution_count": 0,
      "outputs": [
        {
          "output_type": "stream",
          "text": [
            "Collecting numpy==1.16.2\n",
            "\u001b[?25l  Downloading https://files.pythonhosted.org/packages/35/d5/4f8410ac303e690144f0a0603c4b8fd3b986feb2749c435f7cdbb288f17e/numpy-1.16.2-cp36-cp36m-manylinux1_x86_64.whl (17.3MB)\n",
            "\u001b[K     |████████████████████████████████| 17.3MB 2.9MB/s \n",
            "\u001b[31mERROR: datascience 0.10.6 has requirement folium==0.2.1, but you'll have folium 0.8.3 which is incompatible.\u001b[0m\n",
            "\u001b[31mERROR: albumentations 0.1.12 has requirement imgaug<0.2.7,>=0.2.5, but you'll have imgaug 0.2.9 which is incompatible.\u001b[0m\n",
            "\u001b[?25hInstalling collected packages: numpy\n",
            "  Found existing installation: numpy 1.17.1\n",
            "    Uninstalling numpy-1.17.1:\n",
            "      Successfully uninstalled numpy-1.17.1\n",
            "Successfully installed numpy-1.16.2\n"
          ],
          "name": "stdout"
        },
        {
          "output_type": "display_data",
          "data": {
            "application/vnd.colab-display-data+json": {
              "pip_warning": {
                "packages": [
                  "numpy"
                ]
              }
            }
          },
          "metadata": {
            "tags": []
          }
        }
      ]
    },
    {
      "cell_type": "code",
      "metadata": {
        "id": "fx_QuEgXBttq",
        "colab_type": "code",
        "outputId": "3b64af2f-a020-4a83-9465-032d255a17ed",
        "colab": {
          "base_uri": "https://localhost:8080/",
          "height": 1000
        }
      },
      "source": [
        "import matplotlib.pyplot as plt\n",
        "import keras\n",
        "from keras.datasets import cifar10\n",
        "from keras.models import Sequential\n",
        "from keras.layers import Dense, Dropout, Activation, Flatten\n",
        "from keras.layers import Conv2D, MaxPooling2D\n",
        "from keras import optimizers\n",
        "import numpy as np\n",
        "\n",
        "num_classes = 24\n",
        "im_rows = 120\n",
        "im_cols = 120\n",
        "in_shape = (im_rows, im_cols, 3)\n",
        "\n",
        "# データを読み込む --- (*1)\n",
        "X_train = np.load(\"./dataset2_X_train.npy\")\n",
        "y_train = np.load(\"./dataset2_y_train.npy\")\n",
        "X_test = np.load(\"./dataset2_X_test.npy\")\n",
        "y_test = np.load(\"./dataset2_y_test.npy\")\n",
        "\n",
        "# データを正規化 --- (*2)\n",
        "X_train = X_train.astype('float32') / 255\n",
        "X_test = X_test.astype('float32') / 255\n",
        "# ラベルデータをOne-Hot形式に変換\n",
        "y_train = keras.utils.to_categorical(y_train, num_classes)\n",
        "y_test = keras.utils.to_categorical(y_test, num_classes)\n",
        "\n",
        "## モデルを定義 --- (*3)\n",
        "## 51行目のDenseの値を変えてみたり35-40行目を増やしたり減らしたり、Conv2Dの最初の引数を変えたり、Dropoutの引数を変えたり\n",
        "#model = Sequential()\n",
        "#model.add(Conv2D(32, (3, 3), padding='same',\n",
        "#                 input_shape=in_shape))\n",
        "#model.add(Activation('relu'))\n",
        "#model.add(Conv2D(32, (3, 3)))\n",
        "#model.add(Activation('relu'))\n",
        "#model.add(MaxPooling2D(pool_size=(2, 2)))\n",
        "#model.add(Dropout(0.5))\n",
        "#\n",
        "#model.add(Conv2D(32, (3, 3), padding='same'))\n",
        "#model.add(Activation('relu'))\n",
        "#model.add(Conv2D(32, (3, 3)))\n",
        "#model.add(Activation('relu'))\n",
        "#model.add(MaxPooling2D(pool_size=(2, 2)))\n",
        "#model.add(Dropout(0.5))\n",
        "#\n",
        "##model.add(Conv2D(128, (3, 3), padding='same'))\n",
        "##model.add(Activation('relu'))\n",
        "##model.add(Conv2D(128, (3, 3)))\n",
        "##model.add(Activation('relu'))\n",
        "##model.add(MaxPooling2D(pool_size=(2, 2)))\n",
        "##model.add(Dropout(0.25))\n",
        "#\n",
        "#model.add(Flatten())\n",
        "##model.add(Dense(512))\n",
        "#model.add(Dense(128))\n",
        "#model.add(Activation('relu'))\n",
        "#model.add(Dropout(0.5))\n",
        "#model.add(Dense(num_classes))\n",
        "#model.add(Activation('softmax'))\n",
        "#\n",
        "## モデルをコンパイル --- (*4)\n",
        "#model.compile(\n",
        "#    loss='categorical_crossentropy',\n",
        "#    optimizer='adam',\n",
        "#    metrics=['accuracy'])\n",
        "\n",
        "#綾鷹\n",
        "model = Sequential()\n",
        "model.add(Conv2D(32,(3,3),activation=\"relu\",input_shape=(120,120,3)))\n",
        "model.add(MaxPooling2D((2,2)))\n",
        "model.add(Conv2D(64,(3,3),activation=\"relu\"))\n",
        "model.add(MaxPooling2D((2,2)))\n",
        "#model.add(Dropout(0.25))\n",
        "model.add(Conv2D(128,(3,3),activation=\"relu\"))\n",
        "model.add(MaxPooling2D((2,2)))\n",
        "model.add(Conv2D(128,(3,3),activation=\"relu\"))\n",
        "model.add(MaxPooling2D((2,2)))\n",
        "model.add(Flatten())\n",
        "model.add(Dropout(0.5))\n",
        "model.add(Dense(256,activation=\"relu\"))\n",
        "model.add(Dense(num_classes,activation=\"softmax\"))\n",
        "model.summary()\n",
        "model.compile(loss=\"categorical_crossentropy\",\n",
        "              optimizer='adam',\n",
        "              metrics=[\"acc\"])\n",
        "\n",
        "# 学習を実行 --- (*5)\n",
        "#batch_sizeやepochsの数を変えたり\n",
        "hist = model.fit(X_train, y_train,\n",
        "    batch_size=128, epochs=15,\n",
        "    verbose=1,\n",
        "    validation_data=(X_test, y_test))\n",
        "\n",
        "# モデルを評価 --- (*6)\n",
        "score = model.evaluate(X_test, y_test, verbose=1)\n",
        "print('正解率=', score[1], 'loss=', score[0])\n",
        "\n",
        "# 学習の様子をグラフへ描画 --- (*7)\n",
        "plt.plot(hist.history['acc'])\n",
        "plt.plot(hist.history['val_acc'])\n",
        "plt.title('Accuracy')\n",
        "plt.legend(['train', 'test'], loc='upper left')\n",
        "plt.show()\n",
        "plt.plot(hist.history['loss'])\n",
        "plt.plot(hist.history['val_loss'])\n",
        "plt.title('Loss')\n",
        "plt.legend(['train', 'test'], loc='upper left')\n",
        "plt.show()\n",
        "\n",
        "#モデル・重みの保存\n",
        "json_string = model.model.to_json()\n",
        "open('./learned_data_gosanke/data_gosanke.json', 'w').write(json_string)\n",
        "\n",
        "hdf5_file = \"./learned_data_gosanke/data_gosanke.hdf5\"\n",
        "model.model.save_weights(hdf5_file)"
      ],
      "execution_count": 0,
      "outputs": [
        {
          "output_type": "stream",
          "text": [
            "_________________________________________________________________\n",
            "Layer (type)                 Output Shape              Param #   \n",
            "=================================================================\n",
            "conv2d_31 (Conv2D)           (None, 118, 118, 32)      896       \n",
            "_________________________________________________________________\n",
            "max_pooling2d_31 (MaxPooling (None, 59, 59, 32)        0         \n",
            "_________________________________________________________________\n",
            "conv2d_32 (Conv2D)           (None, 57, 57, 64)        18496     \n",
            "_________________________________________________________________\n",
            "max_pooling2d_32 (MaxPooling (None, 28, 28, 64)        0         \n",
            "_________________________________________________________________\n",
            "conv2d_33 (Conv2D)           (None, 26, 26, 128)       73856     \n",
            "_________________________________________________________________\n",
            "max_pooling2d_33 (MaxPooling (None, 13, 13, 128)       0         \n",
            "_________________________________________________________________\n",
            "conv2d_34 (Conv2D)           (None, 11, 11, 128)       147584    \n",
            "_________________________________________________________________\n",
            "max_pooling2d_34 (MaxPooling (None, 5, 5, 128)         0         \n",
            "_________________________________________________________________\n",
            "flatten_9 (Flatten)          (None, 3200)              0         \n",
            "_________________________________________________________________\n",
            "dropout_6 (Dropout)          (None, 3200)              0         \n",
            "_________________________________________________________________\n",
            "dense_17 (Dense)             (None, 256)               819456    \n",
            "_________________________________________________________________\n",
            "dense_18 (Dense)             (None, 24)                6168      \n",
            "=================================================================\n",
            "Total params: 1,066,456\n",
            "Trainable params: 1,066,456\n",
            "Non-trainable params: 0\n",
            "_________________________________________________________________\n",
            "Train on 11795 samples, validate on 5056 samples\n",
            "Epoch 1/15\n",
            "11795/11795 [==============================] - 14s 1ms/step - loss: 2.3073 - acc: 0.2805 - val_loss: 1.7571 - val_acc: 0.4102\n",
            "Epoch 2/15\n",
            "11795/11795 [==============================] - 12s 1ms/step - loss: 1.3132 - acc: 0.5703 - val_loss: 0.7336 - val_acc: 0.7557\n",
            "Epoch 3/15\n",
            "11795/11795 [==============================] - 12s 1ms/step - loss: 0.6387 - acc: 0.7813 - val_loss: 0.3521 - val_acc: 0.8900\n",
            "Epoch 4/15\n",
            "11795/11795 [==============================] - 12s 1ms/step - loss: 0.2980 - acc: 0.8966 - val_loss: 0.1596 - val_acc: 0.9539\n",
            "Epoch 5/15\n",
            "11795/11795 [==============================] - 12s 1ms/step - loss: 0.1583 - acc: 0.9479 - val_loss: 0.0627 - val_acc: 0.9800\n",
            "Epoch 6/15\n",
            "11795/11795 [==============================] - 12s 1ms/step - loss: 0.1017 - acc: 0.9663 - val_loss: 0.1397 - val_acc: 0.9563\n",
            "Epoch 7/15\n",
            "11795/11795 [==============================] - 12s 1ms/step - loss: 0.0801 - acc: 0.9725 - val_loss: 0.0302 - val_acc: 0.9913\n",
            "Epoch 8/15\n",
            "11795/11795 [==============================] - 12s 1ms/step - loss: 0.0704 - acc: 0.9764 - val_loss: 0.0420 - val_acc: 0.9866\n",
            "Epoch 9/15\n",
            "11795/11795 [==============================] - 12s 1ms/step - loss: 0.0705 - acc: 0.9764 - val_loss: 0.0413 - val_acc: 0.9883\n",
            "Epoch 10/15\n",
            "11795/11795 [==============================] - 12s 1ms/step - loss: 0.0513 - acc: 0.9826 - val_loss: 0.0306 - val_acc: 0.9913\n",
            "Epoch 11/15\n",
            "11795/11795 [==============================] - 12s 1ms/step - loss: 0.0505 - acc: 0.9840 - val_loss: 0.0310 - val_acc: 0.9911\n",
            "Epoch 12/15\n",
            "11795/11795 [==============================] - 12s 1ms/step - loss: 0.0498 - acc: 0.9847 - val_loss: 0.0142 - val_acc: 0.9951\n",
            "Epoch 13/15\n",
            "11795/11795 [==============================] - 12s 1ms/step - loss: 0.0386 - acc: 0.9865 - val_loss: 0.0205 - val_acc: 0.9929\n",
            "Epoch 14/15\n",
            "11795/11795 [==============================] - 12s 1ms/step - loss: 0.0247 - acc: 0.9925 - val_loss: 0.0126 - val_acc: 0.9956\n",
            "Epoch 15/15\n",
            "11795/11795 [==============================] - 12s 1ms/step - loss: 0.0355 - acc: 0.9888 - val_loss: 0.0418 - val_acc: 0.9877\n",
            "5056/5056 [==============================] - 2s 435us/step\n",
            "正解率= 0.9877373417721519 loss= 0.04178956122420539\n"
          ],
          "name": "stdout"
        },
        {
          "output_type": "display_data",
          "data": {
            "image/png": "[encoded data removed]",
            "text/plain": [
              "<Figure size 432x288 with 1 Axes>"
            ]
          },
          "metadata": {
            "tags": []
          }
        },
        {
          "output_type": "display_data",
          "data": {
            "image/png": "[encoded data removed]",
            "text/plain": [
              "<Figure size 432x288 with 1 Axes>"
            ]
          },
          "metadata": {
            "tags": []
          }
        },
        {
          "output_type": "stream",
          "text": [
            "/usr/local/lib/python3.6/dist-packages/keras/engine/sequential.py:110: UserWarning: `Sequential.model` is deprecated. `Sequential` is a subclass of `Model`, you can just use your `Sequential` instance directly.\n",
            "  warnings.warn('`Sequential.model` is deprecated. '\n"
          ],
          "name": "stderr"
        }
      ]
    },
    {
      "cell_type": "markdown",
      "metadata": {
        "id": "KZZDfcFF-S0c",
        "colab_type": "text"
      },
      "source": [
        "#バックアップ"
      ]
    },
    {
      "cell_type": "code",
      "metadata": {
        "id": "MZVhvb-9-RTZ",
        "colab_type": "code",
        "colab": {}
      },
      "source": [
        "!cp -R ./learned_data_gosanke ./drive/My\\ Drive\n",
        "!cp dataset2*.npy ./drive/My\\ Drive"
      ],
      "execution_count": 0,
      "outputs": []
    },
    {
      "cell_type": "code",
      "metadata": {
        "id": "dt0GfBYaJpaB",
        "colab_type": "code",
        "colab": {}
      },
      "source": [
        "!rm -r dataset2/other"
      ],
      "execution_count": 0,
      "outputs": []
    }
  ]
}