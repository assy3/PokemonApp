{
  "nbformat": 4,
  "nbformat_minor": 0,
  "metadata": {
    "colab": {
      "name": "ポケモンタイプ学習.ipynb",
      "version": "0.3.2",
      "provenance": [],
      "toc_visible": true,
      "machine_shape": "hm",
      "include_colab_link": true
    },
    "kernelspec": {
      "name": "python3",
      "display_name": "Python 3"
    },
    "accelerator": "GPU"
  },
  "cells": [
    {
      "cell_type": "markdown",
      "metadata": {
        "id": "view-in-github",
        "colab_type": "text"
      },
      "source": [
        "<a href=\"https://colab.research.google.com/github/nalgo-intern/team-b/blob/master/%E3%83%9D%E3%82%B1%E3%83%A2%E3%83%B3%E3%82%BF%E3%82%A4%E3%83%97%E5%AD%A6%E7%BF%92.ipynb\" target=\"_parent\"><img src=\"https://colab.research.google.com/assets/colab-badge.svg\" alt=\"Open In Colab\"/></a>"
      ]
    },
    {
      "cell_type": "markdown",
      "metadata": {
        "id": "dI3qEKO9RZzG",
        "colab_type": "text"
      },
      "source": [
        "#driveからデータを取得"
      ]
    },
    {
      "cell_type": "code",
      "metadata": {
        "id": "s2qcKtYZOdvE",
        "colab_type": "code",
        "outputId": "99aca49a-7f3c-4025-ebd7-a001b0f4f524",
        "colab": {
          "base_uri": "https://localhost:8080/",
          "height": 34
        }
      },
      "source": [
        "from google.colab import drive\n",
        "drive.mount('/content/drive')"
      ],
      "execution_count": 2,
      "outputs": [
        {
          "output_type": "stream",
          "text": [
            "Drive already mounted at /content/drive; to attempt to forcibly remount, call drive.mount(\"/content/drive\", force_remount=True).\n"
          ],
          "name": "stdout"
        }
      ]
    },
    {
      "cell_type": "code",
      "metadata": {
        "id": "tHku4nfJX1wN",
        "colab_type": "code",
        "colab": {}
      },
      "source": [
        "#先にGoogle Driveで https://drive.google.com/drive/folders/1DxqM2rP85xaSXRiRfdnLjIJgA-4_U112?usp=sharing をマイドライブにコピーしておくこと \n",
        "!cp -R /content/drive/My\\ Drive/data /content/\n",
        "!mkdir learned_data"
      ],
      "execution_count": 0,
      "outputs": []
    },
    {
      "cell_type": "markdown",
      "metadata": {
        "id": "GKwtRStHC1wQ",
        "colab_type": "text"
      },
      "source": [
        "#水増し"
      ]
    },
    {
      "cell_type": "code",
      "metadata": {
        "id": "zk-iX7BGCrg6",
        "colab_type": "code",
        "outputId": "b3c94051-ed33-4376-99f4-48223f9fa4cc",
        "colab": {
          "base_uri": "https://localhost:8080/",
          "height": 289
        }
      },
      "source": [
        "#画像の水増し\n",
        "\n",
        "import os\n",
        "import glob\n",
        "import numpy as np\n",
        "from keras.preprocessing.image import ImageDataGenerator, load_img, img_to_array, array_to_img\n",
        "\n",
        "# 画像を拡張する関数\n",
        "def draw_images(generator, x, dir_name, index):\n",
        "    save_name = 'extened-' + str(index)\n",
        "    g = generator.flow(x, batch_size=1, save_to_dir=output_dir,\n",
        "                       save_prefix=save_name, save_format='jpg')\n",
        "\n",
        "    # 1つの入力画像から何枚拡張するかを指定（今回は50枚）\n",
        "    for i in range(50):\n",
        "        bach = g.next()\n",
        "\n",
        "types =[\"normal\", \"fire\", \"water\", \"grass\", \"electric\", \"ice\", \"fighting\", \"poison\", \"ground\", \"flying\", \"psychic\", \"bug\", \"rock\", \"ghost\", \"dragon\"]\n",
        "base_dir = './data/'\n",
        "for i in types:\n",
        "    print(i)\n",
        "    # 出力先ディレクトリの設定\n",
        "    output_dir = base_dir + i\n",
        "    \n",
        "    if not(os.path.exists(output_dir)):\n",
        "        os.mkdir(output_dir)\n",
        "    \n",
        "    # 拡張する画像の読み込み\n",
        "    images = glob.glob(os.path.join(base_dir + i, \"*.jpg\"))\n",
        "    \n",
        "    # ImageDataGeneratorを定義\n",
        "    datagen = ImageDataGenerator(rotation_range=30,\n",
        "                                width_shift_range=20,\n",
        "                                height_shift_range=0.,\n",
        "                                zoom_range=0.1,\n",
        "                                horizontal_flip=True,\n",
        "                                vertical_flip=True)\n",
        "    \n",
        "    # 読み込んだ画像を順に拡張\n",
        "    for i in range(len(images)):\n",
        "        img = load_img(images[i])\n",
        "        img = img.resize((250, 250))\n",
        "        x = img_to_array(img)\n",
        "        x = np.expand_dims(x, axis=0)\n",
        "        draw_images(datagen, x, output_dir, i)"
      ],
      "execution_count": 3,
      "outputs": [
        {
          "output_type": "stream",
          "text": [
            "Using TensorFlow backend.\n"
          ],
          "name": "stderr"
        },
        {
          "output_type": "stream",
          "text": [
            "normal\n",
            "fire\n",
            "water\n",
            "grass\n",
            "electric\n",
            "ice\n",
            "fighting\n",
            "poison\n",
            "ground\n",
            "flying\n",
            "psychic\n",
            "bug\n",
            "rock\n",
            "ghost\n",
            "dragon\n"
          ],
          "name": "stdout"
        }
      ]
    },
    {
      "cell_type": "markdown",
      "metadata": {
        "id": "EkJT-kQnRepn",
        "colab_type": "text"
      },
      "source": [
        "#データセットを作成"
      ]
    },
    {
      "cell_type": "code",
      "metadata": {
        "colab_type": "code",
        "outputId": "caab9784-c8a1-4a30-8ab3-e67e607ecd3b",
        "id": "g5qVVHWZWpY7",
        "colab": {
          "base_uri": "https://localhost:8080/",
          "height": 297
        }
      },
      "source": [
        "!pip install -U numpy"
      ],
      "execution_count": 4,
      "outputs": [
        {
          "output_type": "stream",
          "text": [
            "Collecting numpy\n",
            "\u001b[?25l  Downloading https://files.pythonhosted.org/packages/19/b9/bda9781f0a74b90ebd2e046fde1196182900bd4a8e1ea503d3ffebc50e7c/numpy-1.17.0-cp36-cp36m-manylinux1_x86_64.whl (20.4MB)\n",
            "\u001b[K     |████████████████████████████████| 20.4MB 3.4MB/s \n",
            "\u001b[31mERROR: datascience 0.10.6 has requirement folium==0.2.1, but you'll have folium 0.8.3 which is incompatible.\u001b[0m\n",
            "\u001b[31mERROR: albumentations 0.1.12 has requirement imgaug<0.2.7,>=0.2.5, but you'll have imgaug 0.2.9 which is incompatible.\u001b[0m\n",
            "\u001b[?25hInstalling collected packages: numpy\n",
            "  Found existing installation: numpy 1.16.4\n",
            "    Uninstalling numpy-1.16.4:\n",
            "      Successfully uninstalled numpy-1.16.4\n",
            "Successfully installed numpy-1.17.0\n"
          ],
          "name": "stdout"
        },
        {
          "output_type": "display_data",
          "data": {
            "application/vnd.colab-display-data+json": {
              "pip_warning": {
                "packages": [
                  "numpy"
                ]
              }
            }
          },
          "metadata": {
            "tags": []
          }
        }
      ]
    },
    {
      "cell_type": "code",
      "metadata": {
        "id": "CqRnDb_56vBZ",
        "colab_type": "code",
        "colab": {}
      },
      "source": [
        "from PIL import Image\n",
        "import os, glob\n",
        "import numpy as np\n",
        "import random, math\n",
        "\n",
        "root_dir = \"./data\"\n",
        "types =[\"normal\", \"fire\", \"water\", \"grass\", \"electric\", \"ice\", \"fighting\", \"poison\", \"ground\", \"flying\", \"psychic\", \"bug\", \"rock\", \"ghost\", \"dragon\"]\n",
        "\n",
        "X = []\n",
        "Y = []\n",
        "\n",
        "def make_sample(files):\n",
        "    global X, Y\n",
        "    X = []\n",
        "    Y = []\n",
        "    for cat, fname in files:\n",
        "        add_sample(cat, fname)\n",
        "    return np.array(X), np.array(Y)\n",
        "\n",
        "\n",
        "def add_sample(cat, fname):\n",
        "    img = Image.open(fname)\n",
        "    img = img.convert(\"RGB\")\n",
        "    img = img.resize((250, 250))\n",
        "    data = np.asarray(img)\n",
        "    X.append(data)\n",
        "    Y.append(cat)\n",
        "\n",
        "allfiles = []\n",
        "\n",
        "for idx, cat in enumerate(types):\n",
        "    image_dir = root_dir + \"/\" + cat\n",
        "    files = glob.glob(image_dir + \"/*.jpg\")\n",
        "    for f in files:\n",
        "        allfiles.append((idx, f))\n",
        "\n",
        "random.shuffle(allfiles)\n",
        "th = math.floor(len(allfiles) * 0.8)\n",
        "train = allfiles[0:th]\n",
        "test = allfiles[th:]\n",
        "X_train, y_train = make_sample(train)\n",
        "X_test, y_test = make_sample(test)\n",
        "xy = (X_train, X_test, y_train, y_test)\n",
        "\n",
        "np.save(\"./dataset.npy\", xy)"
      ],
      "execution_count": 0,
      "outputs": []
    },
    {
      "cell_type": "markdown",
      "metadata": {
        "id": "n0H8LUHSRjhu",
        "colab_type": "text"
      },
      "source": [
        "#学習"
      ]
    },
    {
      "cell_type": "code",
      "metadata": {
        "id": "lGW91eazHR9d",
        "colab_type": "code",
        "outputId": "8a6769bb-457d-4666-d4ad-557327dda8dc",
        "colab": {
          "base_uri": "https://localhost:8080/",
          "height": 297
        }
      },
      "source": [
        "!pip install numpy==1.16.2"
      ],
      "execution_count": 2,
      "outputs": [
        {
          "output_type": "stream",
          "text": [
            "Collecting numpy==1.16.2\n",
            "\u001b[?25l  Downloading https://files.pythonhosted.org/packages/35/d5/4f8410ac303e690144f0a0603c4b8fd3b986feb2749c435f7cdbb288f17e/numpy-1.16.2-cp36-cp36m-manylinux1_x86_64.whl (17.3MB)\n",
            "\u001b[K     |████████████████████████████████| 17.3MB 3.5MB/s \n",
            "\u001b[31mERROR: datascience 0.10.6 has requirement folium==0.2.1, but you'll have folium 0.8.3 which is incompatible.\u001b[0m\n",
            "\u001b[31mERROR: albumentations 0.1.12 has requirement imgaug<0.2.7,>=0.2.5, but you'll have imgaug 0.2.9 which is incompatible.\u001b[0m\n",
            "\u001b[?25hInstalling collected packages: numpy\n",
            "  Found existing installation: numpy 1.17.0\n",
            "    Uninstalling numpy-1.17.0:\n",
            "      Successfully uninstalled numpy-1.17.0\n",
            "Successfully installed numpy-1.16.2\n"
          ],
          "name": "stdout"
        },
        {
          "output_type": "display_data",
          "data": {
            "application/vnd.colab-display-data+json": {
              "pip_warning": {
                "packages": [
                  "numpy"
                ]
              }
            }
          },
          "metadata": {
            "tags": []
          }
        }
      ]
    },
    {
      "cell_type": "code",
      "metadata": {
        "id": "fx_QuEgXBttq",
        "colab_type": "code",
        "outputId": "5f35aa71-6b47-4f02-ecf6-afe9d6c5325f",
        "colab": {
          "base_uri": "https://localhost:8080/",
          "height": 904
        }
      },
      "source": [
        "import matplotlib.pyplot as plt\n",
        "import keras\n",
        "from keras.datasets import cifar10\n",
        "from keras.models import Sequential\n",
        "from keras.layers import Dense, Dropout, Activation, Flatten\n",
        "from keras.layers import Conv2D, MaxPooling2D\n",
        "import numpy as np\n",
        "\n",
        "num_classes = 15\n",
        "im_rows = 250\n",
        "im_cols = 250\n",
        "in_shape = (im_rows, im_cols, 3)\n",
        "\n",
        "# データを読み込む --- (*1)\n",
        "X_train, X_test, y_train, y_test = np.load('./dataset.npy')\n",
        "\n",
        "# データを正規化 --- (*2)\n",
        "X_train = X_train.astype('float32') / 255\n",
        "X_test = X_test.astype('float32') / 255\n",
        "# ラベルデータをOne-Hot形式に変換\n",
        "y_train = keras.utils.to_categorical(y_train, num_classes)\n",
        "y_test = keras.utils.to_categorical(y_test, num_classes)\n",
        "\n",
        "# モデルを定義 --- (*3)\n",
        "# 51行目のDenseの値を変えてみたり35-40行目を増やしたり減らしたり、Conv2Dの最初の引数を変えたり、Dropoutの引数を変えたり\n",
        "model = Sequential()\n",
        "model.add(Conv2D(32, (3, 3), padding='same',\n",
        "                 input_shape=in_shape))\n",
        "model.add(Activation('relu'))\n",
        "model.add(Conv2D(32, (3, 3)))\n",
        "model.add(Activation('relu'))\n",
        "model.add(MaxPooling2D(pool_size=(2, 2)))\n",
        "model.add(Dropout(0.25))\n",
        "\n",
        "model.add(Conv2D(64, (3, 3), padding='same'))\n",
        "model.add(Activation('relu'))\n",
        "model.add(Conv2D(64, (3, 3)))\n",
        "model.add(Activation('relu'))\n",
        "model.add(MaxPooling2D(pool_size=(2, 2)))\n",
        "model.add(Dropout(0.25))\n",
        "\n",
        "#model.add(Conv2D(128, (3, 3), padding='same'))\n",
        "#model.add(Activation('relu'))\n",
        "#model.add(Conv2D(128, (3, 3)))\n",
        "#model.add(Activation('relu'))\n",
        "#model.add(MaxPooling2D(pool_size=(2, 2)))\n",
        "#model.add(Dropout(0.25))\n",
        "\n",
        "model.add(Flatten())\n",
        "#model.add(Dense(512))\n",
        "model.add(Dense(128))\n",
        "model.add(Activation('relu'))\n",
        "model.add(Dropout(0.5))\n",
        "model.add(Dense(num_classes))\n",
        "model.add(Activation('softmax'))\n",
        "\n",
        "# モデルをコンパイル --- (*4)\n",
        "model.compile(\n",
        "    loss='categorical_crossentropy',\n",
        "    optimizer='adam',\n",
        "    metrics=['accuracy'])\n",
        "\n",
        "# 学習を実行 --- (*5)\n",
        "#batch_sizeやepochsの数を変えたり\n",
        "hist = model.fit(X_train, y_train,\n",
        "    batch_size=128, epochs=20,\n",
        "    verbose=1,\n",
        "    validation_data=(X_test, y_test))\n",
        "\n",
        "# モデルを評価 --- (*6)\n",
        "score = model.evaluate(X_test, y_test, verbose=1)\n",
        "print('正解率=', score[1], 'loss=', score[0])\n",
        "\n",
        "# 学習の様子をグラフへ描画 --- (*7)\n",
        "plt.plot(hist.history['acc'])\n",
        "plt.plot(hist.history['val_acc'])\n",
        "plt.title('Accuracy')\n",
        "plt.legend(['train', 'test'], loc='upper left')\n",
        "plt.show()\n",
        "plt.plot(hist.history['loss'])\n",
        "plt.plot(hist.history['val_loss'])\n",
        "plt.title('Loss')\n",
        "plt.legend(['train', 'test'], loc='upper left')\n",
        "plt.show()\n",
        "\n",
        "#モデル・重みの保存\n",
        "json_string = model.model.to_json()\n",
        "open('./learned_data/data.json', 'w').write(json_string)\n",
        "\n",
        "hdf5_file = \"./learned_data/data.hdf5\"\n",
        "model.model.save_weights(hdf5_file)"
      ],
      "execution_count": 0,
      "outputs": [
        {
          "output_type": "stream",
          "text": [
            "Using TensorFlow backend.\n",
            "WARNING: Logging before flag parsing goes to stderr.\n",
            "W0823 06:47:14.345646 139793009239936 deprecation_wrapper.py:119] From /usr/local/lib/python3.6/dist-packages/keras/backend/tensorflow_backend.py:74: The name tf.get_default_graph is deprecated. Please use tf.compat.v1.get_default_graph instead.\n",
            "\n",
            "W0823 06:47:14.415095 139793009239936 deprecation_wrapper.py:119] From /usr/local/lib/python3.6/dist-packages/keras/backend/tensorflow_backend.py:517: The name tf.placeholder is deprecated. Please use tf.compat.v1.placeholder instead.\n",
            "\n",
            "W0823 06:47:14.435754 139793009239936 deprecation_wrapper.py:119] From /usr/local/lib/python3.6/dist-packages/keras/backend/tensorflow_backend.py:4138: The name tf.random_uniform is deprecated. Please use tf.random.uniform instead.\n",
            "\n",
            "W0823 06:47:14.491797 139793009239936 deprecation_wrapper.py:119] From /usr/local/lib/python3.6/dist-packages/keras/backend/tensorflow_backend.py:3976: The name tf.nn.max_pool is deprecated. Please use tf.nn.max_pool2d instead.\n",
            "\n",
            "W0823 06:47:14.499227 139793009239936 deprecation_wrapper.py:119] From /usr/local/lib/python3.6/dist-packages/keras/backend/tensorflow_backend.py:133: The name tf.placeholder_with_default is deprecated. Please use tf.compat.v1.placeholder_with_default instead.\n",
            "\n",
            "W0823 06:47:14.510207 139793009239936 deprecation.py:506] From /usr/local/lib/python3.6/dist-packages/keras/backend/tensorflow_backend.py:3445: calling dropout (from tensorflow.python.ops.nn_ops) with keep_prob is deprecated and will be removed in a future version.\n",
            "Instructions for updating:\n",
            "Please use `rate` instead of `keep_prob`. Rate should be set to `rate = 1 - keep_prob`.\n",
            "W0823 06:47:14.655935 139793009239936 deprecation_wrapper.py:119] From /usr/local/lib/python3.6/dist-packages/keras/optimizers.py:790: The name tf.train.Optimizer is deprecated. Please use tf.compat.v1.train.Optimizer instead.\n",
            "\n",
            "W0823 06:47:14.689315 139793009239936 deprecation_wrapper.py:119] From /usr/local/lib/python3.6/dist-packages/keras/backend/tensorflow_backend.py:3295: The name tf.log is deprecated. Please use tf.math.log instead.\n",
            "\n",
            "W0823 06:47:14.874508 139793009239936 deprecation.py:323] From /usr/local/lib/python3.6/dist-packages/tensorflow/python/ops/math_grad.py:1250: add_dispatch_support.<locals>.wrapper (from tensorflow.python.ops.array_ops) is deprecated and will be removed in a future version.\n",
            "Instructions for updating:\n",
            "Use tf.where in 2.0, which has the same broadcast rule as np.where\n"
          ],
          "name": "stderr"
        },
        {
          "output_type": "stream",
          "text": [
            "Train on 17620 samples, validate on 4405 samples\n",
            "Epoch 1/20\n",
            "17620/17620 [==============================] - 181s 10ms/step - loss: 2.2388 - acc: 0.2491 - val_loss: 1.7116 - val_acc: 0.3775\n",
            "Epoch 2/20\n",
            "17620/17620 [==============================] - 164s 9ms/step - loss: 1.6276 - acc: 0.3992 - val_loss: 1.3655 - val_acc: 0.5106\n",
            "Epoch 3/20\n",
            "17620/17620 [==============================] - 163s 9ms/step - loss: 1.3632 - acc: 0.4799 - val_loss: 1.0399 - val_acc: 0.6023\n",
            "Epoch 4/20\n",
            "17620/17620 [==============================] - 163s 9ms/step - loss: 1.1274 - acc: 0.5563 - val_loss: 0.8489 - val_acc: 0.6638\n",
            "Epoch 5/20\n",
            "17620/17620 [==============================] - 164s 9ms/step - loss: 0.9584 - acc: 0.6222 - val_loss: 0.7763 - val_acc: 0.6899\n",
            "Epoch 6/20\n",
            "17620/17620 [==============================] - 164s 9ms/step - loss: 0.8355 - acc: 0.6668 - val_loss: 0.6155 - val_acc: 0.7532\n",
            "Epoch 7/20\n",
            "17620/17620 [==============================] - 164s 9ms/step - loss: 0.7663 - acc: 0.6900 - val_loss: 0.5784 - val_acc: 0.7546\n",
            "Epoch 8/20\n",
            "17620/17620 [==============================] - 164s 9ms/step - loss: 0.6847 - acc: 0.7159 - val_loss: 0.5559 - val_acc: 0.7705\n",
            "Epoch 9/20\n",
            "17620/17620 [==============================] - 163s 9ms/step - loss: 0.6445 - acc: 0.7377 - val_loss: 0.5354 - val_acc: 0.7741\n",
            "Epoch 10/20\n",
            "17620/17620 [==============================] - 164s 9ms/step - loss: 0.6081 - acc: 0.7494 - val_loss: 0.5084 - val_acc: 0.7902\n",
            "Epoch 11/20\n",
            "17620/17620 [==============================] - 164s 9ms/step - loss: 0.5650 - acc: 0.7660 - val_loss: 0.5190 - val_acc: 0.7771\n",
            "Epoch 12/20\n",
            "17620/17620 [==============================] - 164s 9ms/step - loss: 0.5382 - acc: 0.7774 - val_loss: 0.4966 - val_acc: 0.7943\n",
            "Epoch 13/20\n",
            "17620/17620 [==============================] - 164s 9ms/step - loss: 0.5047 - acc: 0.7888 - val_loss: 0.5259 - val_acc: 0.7868\n",
            "Epoch 14/20\n",
            " 9088/17620 [==============>...............] - ETA: 1:13 - loss: 0.4708 - acc: 0.7992"
          ],
          "name": "stdout"
        }
      ]
    },
    {
      "cell_type": "markdown",
      "metadata": {
        "id": "dJRWe0opTFHp",
        "colab_type": "text"
      },
      "source": [
        "#サーバーを起動"
      ]
    },
    {
      "cell_type": "code",
      "metadata": {
        "id": "aqugOtt83x22",
        "colab_type": "code",
        "outputId": "e65a334b-d838-4bc7-f8c1-8ff558a35470",
        "colab": {
          "base_uri": "https://localhost:8080/",
          "height": 238
        }
      },
      "source": [
        "!wget https://bin.equinox.io/c/4VmDzA7iaHb/ngrok-stable-linux-amd64.zip\n",
        "!unzip ngrok-stable-linux-amd64.zip\n",
        "!mkdir uploads"
      ],
      "execution_count": 0,
      "outputs": [
        {
          "output_type": "stream",
          "text": [
            "--2019-08-23 04:45:42--  https://bin.equinox.io/c/4VmDzA7iaHb/ngrok-stable-linux-amd64.zip\n",
            "Resolving bin.equinox.io (bin.equinox.io)... 35.173.3.255, 52.2.175.150, 34.202.125.55, ...\n",
            "Connecting to bin.equinox.io (bin.equinox.io)|35.173.3.255|:443... connected.\n",
            "HTTP request sent, awaiting response... 200 OK\n",
            "Length: 13607069 (13M) [application/octet-stream]\n",
            "Saving to: ‘ngrok-stable-linux-amd64.zip’\n",
            "\n",
            "\r          ngrok-sta   0%[                    ]       0  --.-KB/s               \rngrok-stable-linux- 100%[===================>]  12.98M  75.8MB/s    in 0.2s    \n",
            "\n",
            "2019-08-23 04:45:43 (75.8 MB/s) - ‘ngrok-stable-linux-amd64.zip’ saved [13607069/13607069]\n",
            "\n",
            "Archive:  ngrok-stable-linux-amd64.zip\n",
            "  inflating: ngrok                   \n"
          ],
          "name": "stdout"
        }
      ]
    },
    {
      "cell_type": "code",
      "metadata": {
        "id": "Mw9byOw5KKYY",
        "colab_type": "code",
        "outputId": "e2f3660e-cad7-4621-e2f3-157bade92b44",
        "colab": {
          "base_uri": "https://localhost:8080/",
          "height": 1000
        }
      },
      "source": [
        "get_ipython().system_raw('./ngrok http 6006 &')\n",
        "! curl -s http://localhost:4040/api/tunnels | python3 -c \\\n",
        "    \"import sys, json; print(json.load(sys.stdin)['tunnels'][0]['public_url'])\"\n",
        "import os\n",
        "import json\n",
        "# request フォームから送信した情報を扱うためのモジュール\n",
        "# redirect  ページの移動\n",
        "# url_for アドレス遷移\n",
        "from flask import Flask, request, redirect, url_for\n",
        "# ファイル名をチェックする関数\n",
        "from werkzeug.utils import secure_filename\n",
        "# 画像のダウンロード\n",
        "from flask import send_from_directory\n",
        "\n",
        "from keras import models\n",
        "import numpy as np\n",
        "from keras.preprocessing import image\n",
        "from keras.models import model_from_json\n",
        "from keras import backend as K\n",
        "\n",
        "# 画像のアップロード先のディレクトリ\n",
        "UPLOAD_FOLDER = './uploads'\n",
        "# アップロードされる拡張子の制限\n",
        "ALLOWED_EXTENSIONS = set(['png', 'jpg', 'gif'])\n",
        "\n",
        "app = Flask(__name__)\n",
        "\n",
        "app.config['UPLOAD_FOLDER'] = UPLOAD_FOLDER\n",
        "\n",
        "#推測部分\n",
        "def function(img_path):    \n",
        "    K.clear_session()\n",
        "    types = [\"ノーマル\", \"ほのお\", \"みず\", \"くさ\", \"でんき\", \"こおり\", \"かくとう\", \"どく\", \"じめん\", \"ひこう\", \"エスパー\", \"むし\", \"いわ\", \"ゴースト\", \"ドラゴン\"]\n",
        "\n",
        "    model = model_from_json(open('./learned_data/data.json').read())\n",
        "    model.load_weights('./learned_data/data.hdf5')\n",
        "\n",
        "    img_path = img_path \n",
        "    img = image.load_img(img_path, target_size=(250,250,3))\n",
        "    x = image.img_to_array(img)\n",
        "    x = np.expand_dims(x, axis=0)\n",
        "\n",
        "    features = model.predict(x)\n",
        "\n",
        "    print (features)\n",
        "    for i in range(0,14):\n",
        "        if features[0,i] == 1:\n",
        "            break\n",
        "    \n",
        "    return types[i]\n",
        "\n",
        "def allwed_file(filename):\n",
        "    # .があるかどうかのチェックと、拡張子の確認\n",
        "    # OKなら１、だめなら0\n",
        "    return '.' in filename and filename.rsplit('.', 1)[1].lower() in ALLOWED_EXTENSIONS\n",
        "\n",
        "    # ファイルを受け取る方法の指定\n",
        "@app.route('/', methods=['GET', 'POST'])\n",
        "def uploads_file():\n",
        "    # リクエストがポストかどうかの判別\n",
        "    if request.method == 'POST':\n",
        "        # ファイルがなかった場合の処理\n",
        "        if 'file' not in request.files:\n",
        "            # flash('ファイルがありません')\n",
        "            return redirect(request.url)\n",
        "        # データの取り出し\n",
        "        file = request.files['file']\n",
        "        # ファイル名がなかった時の処理\n",
        "        if file.filename == '':\n",
        "            # flash('ファイルがありません')\n",
        "            return redirect(request.url)\n",
        "        # ファイルのチェック\n",
        "        if file and allwed_file(file.filename):\n",
        "            # 危険な文字を削除（サニタイズ処理）\n",
        "            global filename\n",
        "            filename = secure_filename(file.filename)\n",
        "            # ファイルの保存\n",
        "            file.save(os.path.join(app.config['UPLOAD_FOLDER'], filename))\n",
        "            # アップロード後のページに転送\n",
        "            print(file.filename)\n",
        "            print(filename)\n",
        "            \n",
        "            # 関数呼び出し ポケモンの属性を文字で返す\n",
        "            target_path = \"./uploads/\" + filename\n",
        "            global result_data\n",
        "            result_data = function(target_path)\n",
        "\n",
        "            # ポケモンの属性を格納する変数\n",
        "            #result_data = target_path\n",
        "\n",
        "            return redirect(url_for('result'))\n",
        "\n",
        "    return '''\n",
        "    <!doctype html>\n",
        "    <html>\n",
        "        <head>\n",
        "            <meta charset=\"UTF-8\">\n",
        "            <title>\n",
        "                ポケモンタイプ診断\n",
        "            </title>\n",
        "        </head>\n",
        "        <body>\n",
        "            <h1>\n",
        "                ファイルをアップロードしてポケモンのタイプを判定しよう\n",
        "            </h1>\n",
        "            <form method = post enctype = multipart/form-data>\n",
        "            <p><input type=file id=\"q\" name = file>\n",
        "            <input type = submit id=\"qButton\" value = 調べる>\n",
        "            <div id=\"result\"></div>\n",
        "            </form>\n",
        "\n",
        "            <script>\n",
        "                const qs = (q) => document.querySelector(q)\n",
        "                window.onload = () => {\n",
        "                const q = qs('#q')\n",
        "                const qButton = qs('#qButton')\n",
        "                const result = qs('#result')\n",
        "                // 判定ボタンを押した時 --- (*1)\n",
        "                qButton.onclick = () => {\n",
        "                    result.innerHTML = \"...\"\n",
        "                    // APIサーバに送信するURLを構築 --- (*2)\n",
        "                    const api = \"/api?q=\" + \n",
        "                    encodeURIComponent(q.value)\n",
        "                    // APIにアクセス --- (*3)\n",
        "                    fetch(api).then((res) => {\n",
        "                    return res.json() // JSONで返す\n",
        "                    }).then((data) => {\n",
        "                    // 結果を画面に表示 --- (*4)\n",
        "                    result.innerHTML =\n",
        "                        data[\"label\"] + \n",
        "                        \"<span style='font-size:0.5em'>(\" + \n",
        "                        data[\"per\"] + \")</span>\"\n",
        "                    })\n",
        "                }\n",
        "                }\n",
        "            </script>\n",
        "        </body>\n",
        "'''\n",
        "\n",
        "@app.route('/uploads/<filename>')\n",
        "# ファイルを表示する\n",
        "def uploaded_file(filename):\n",
        "    return send_from_directory(app.config['UPLOAD_FOLDER'], filename)\n",
        "\n",
        "# resultした場合 \n",
        "@app.route('/result', methods=['GET'])\n",
        "def result():\n",
        "    # img_path = r'C:\\Users\\internship\\team_b\\team-b-master\\FLASK_UPLOADER\\src\\pokemon.jpg'\n",
        "    #     <img src=> \n",
        "    # <img src=./src/pokemon.jpg> \n",
        "\n",
        "    result_format = \"\"\"\n",
        "    <!DOCTYPE html>\n",
        "    <html>\n",
        "    <head><meta charset=\"UTF-8\"><title>ポケモンタイプ</title></head>\n",
        "    <body>\n",
        "\n",
        "    <p>\n",
        "        <h1>結果画面</h1>\n",
        "        <h2>ポケモンのタイプは{%s}です</h2>\n",
        "\n",
        "    </p>\n",
        "    </body>\n",
        "    </html>\n",
        "    \"\"\"%result_data\n",
        "    return result_format \n",
        "\n",
        "if __name__ == '__main__':\n",
        "    app.run(port=6006)"
      ],
      "execution_count": 0,
      "outputs": [
        {
          "output_type": "stream",
          "text": [
            "https://1617ac19.ngrok.io\n",
            " * Serving Flask app \"__main__\" (lazy loading)\n",
            " * Environment: production\n",
            "   WARNING: This is a development server. Do not use it in a production deployment.\n",
            "   Use a production WSGI server instead.\n",
            " * Debug mode: off\n"
          ],
          "name": "stdout"
        },
        {
          "output_type": "stream",
          "text": [
            "I0823 04:47:07.873709 140317138327424 _internal.py:122]  * Running on http://127.0.0.1:6006/ (Press CTRL+C to quit)\n",
            "I0823 04:47:10.999347 140314312046336 _internal.py:122] 127.0.0.1 - - [23/Aug/2019 04:47:10] \"\u001b[37mGET / HTTP/1.1\u001b[0m\" 200 -\n",
            "I0823 04:47:11.260983 140314312046336 _internal.py:122] 127.0.0.1 - - [23/Aug/2019 04:47:11] \"\u001b[33mGET /favicon.ico HTTP/1.1\u001b[0m\" 404 -\n",
            "I0823 04:47:14.013211 140314312046336 _internal.py:122] 127.0.0.1 - - [23/Aug/2019 04:47:14] \"\u001b[33mGET /api?q=C%3A%5Cfakepath%5Ctest.jpg HTTP/1.1\u001b[0m\" 404 -\n"
          ],
          "name": "stderr"
        },
        {
          "output_type": "stream",
          "text": [
            "test.jpg\n",
            "test.jpg\n"
          ],
          "name": "stdout"
        },
        {
          "output_type": "stream",
          "text": [
            "I0823 04:47:15.082012 140314312046336 _internal.py:122] 127.0.0.1 - - [23/Aug/2019 04:47:15] \"\u001b[32mPOST / HTTP/1.1\u001b[0m\" 302 -\n"
          ],
          "name": "stderr"
        },
        {
          "output_type": "stream",
          "text": [
            "[[0. 0. 1. 0. 0. 0. 0. 0. 0. 0. 0. 0. 0. 0. 0.]]\n"
          ],
          "name": "stdout"
        },
        {
          "output_type": "stream",
          "text": [
            "I0823 04:47:15.487115 140314312046336 _internal.py:122] 127.0.0.1 - - [23/Aug/2019 04:47:15] \"\u001b[37mGET /result HTTP/1.1\u001b[0m\" 200 -\n",
            "I0823 04:47:15.773886 140314312046336 _internal.py:122] 127.0.0.1 - - [23/Aug/2019 04:47:15] \"\u001b[33mGET /favicon.ico HTTP/1.1\u001b[0m\" 404 -\n",
            "I0823 04:47:17.405879 140314312046336 _internal.py:122] 127.0.0.1 - - [23/Aug/2019 04:47:17] \"\u001b[37mGET / HTTP/1.1\u001b[0m\" 200 -\n",
            "I0823 04:47:23.817093 140314312046336 _internal.py:122] 127.0.0.1 - - [23/Aug/2019 04:47:23] \"\u001b[33mGET /api?q=C%3A%5Cfakepath%5Ctest.png HTTP/1.1\u001b[0m\" 404 -\n"
          ],
          "name": "stderr"
        },
        {
          "output_type": "stream",
          "text": [
            "test.png\n",
            "test.png\n"
          ],
          "name": "stdout"
        },
        {
          "output_type": "stream",
          "text": [
            "I0823 04:47:25.099776 140314312046336 _internal.py:122] 127.0.0.1 - - [23/Aug/2019 04:47:25] \"\u001b[32mPOST / HTTP/1.1\u001b[0m\" 302 -\n"
          ],
          "name": "stderr"
        },
        {
          "output_type": "stream",
          "text": [
            "[[0. 0. 1. 0. 0. 0. 0. 0. 0. 0. 0. 0. 0. 0. 0.]]\n"
          ],
          "name": "stdout"
        },
        {
          "output_type": "stream",
          "text": [
            "I0823 04:47:25.322829 140314312046336 _internal.py:122] 127.0.0.1 - - [23/Aug/2019 04:47:25] \"\u001b[37mGET /result HTTP/1.1\u001b[0m\" 200 -\n",
            "I0823 04:47:28.976313 140314312046336 _internal.py:122] 127.0.0.1 - - [23/Aug/2019 04:47:28] \"\u001b[37mGET / HTTP/1.1\u001b[0m\" 200 -\n",
            "I0823 04:47:36.204079 140314312046336 _internal.py:122] 127.0.0.1 - - [23/Aug/2019 04:47:36] \"\u001b[33mGET /api?q=C%3A%5Cfakepath%5Csampleship.jpg HTTP/1.1\u001b[0m\" 404 -\n"
          ],
          "name": "stderr"
        },
        {
          "output_type": "stream",
          "text": [
            "sampleship.jpg\n",
            "sampleship.jpg\n"
          ],
          "name": "stdout"
        },
        {
          "output_type": "stream",
          "text": [
            "I0823 04:47:36.864113 140314242774784 _internal.py:122] 127.0.0.1 - - [23/Aug/2019 04:47:36] \"\u001b[32mPOST / HTTP/1.1\u001b[0m\" 302 -\n"
          ],
          "name": "stderr"
        },
        {
          "output_type": "stream",
          "text": [
            "[[0. 0. 1. 0. 0. 0. 0. 0. 0. 0. 0. 0. 0. 0. 0.]]\n"
          ],
          "name": "stdout"
        },
        {
          "output_type": "stream",
          "text": [
            "I0823 04:47:37.078636 140314242774784 _internal.py:122] 127.0.0.1 - - [23/Aug/2019 04:47:37] \"\u001b[37mGET /result HTTP/1.1\u001b[0m\" 200 -\n",
            "I0823 04:47:38.442421 140314242774784 _internal.py:122] 127.0.0.1 - - [23/Aug/2019 04:47:38] \"\u001b[37mGET / HTTP/1.1\u001b[0m\" 200 -\n",
            "I0823 04:47:44.600214 140314242774784 _internal.py:122] 127.0.0.1 - - [23/Aug/2019 04:47:44] \"\u001b[33mGET /api?q=C%3A%5Cfakepath%5Ctest1.jpg HTTP/1.1\u001b[0m\" 404 -\n"
          ],
          "name": "stderr"
        },
        {
          "output_type": "stream",
          "text": [
            "test1.jpg\n",
            "test1.jpg\n"
          ],
          "name": "stdout"
        },
        {
          "output_type": "stream",
          "text": [
            "I0823 04:47:45.257553 140314216023808 _internal.py:122] 127.0.0.1 - - [23/Aug/2019 04:47:45] \"\u001b[32mPOST / HTTP/1.1\u001b[0m\" 302 -\n"
          ],
          "name": "stderr"
        },
        {
          "output_type": "stream",
          "text": [
            "[[0. 0. 0. 0. 1. 0. 0. 0. 0. 0. 0. 0. 0. 0. 0.]]\n"
          ],
          "name": "stdout"
        },
        {
          "output_type": "stream",
          "text": [
            "I0823 04:47:45.486624 140314216023808 _internal.py:122] 127.0.0.1 - - [23/Aug/2019 04:47:45] \"\u001b[37mGET /result HTTP/1.1\u001b[0m\" 200 -\n",
            "I0823 04:47:47.448963 140314216023808 _internal.py:122] 127.0.0.1 - - [23/Aug/2019 04:47:47] \"\u001b[37mGET / HTTP/1.1\u001b[0m\" 200 -\n",
            "I0823 04:47:48.841504 140314216023808 _internal.py:122] 127.0.0.1 - - [23/Aug/2019 04:47:48] \"\u001b[33mGET /api?q=C%3A%5Cfakepath%5Ctest1.jpg HTTP/1.1\u001b[0m\" 404 -\n"
          ],
          "name": "stderr"
        },
        {
          "output_type": "stream",
          "text": [
            "test1.jpg\n",
            "test1.jpg\n"
          ],
          "name": "stdout"
        },
        {
          "output_type": "stream",
          "text": [
            "I0823 04:47:49.939762 140314216023808 _internal.py:122] 127.0.0.1 - - [23/Aug/2019 04:47:49] \"\u001b[32mPOST / HTTP/1.1\u001b[0m\" 302 -\n"
          ],
          "name": "stderr"
        },
        {
          "output_type": "stream",
          "text": [
            "[[0. 0. 0. 0. 1. 0. 0. 0. 0. 0. 0. 0. 0. 0. 0.]]\n"
          ],
          "name": "stdout"
        },
        {
          "output_type": "stream",
          "text": [
            "I0823 04:47:50.161188 140314216023808 _internal.py:122] 127.0.0.1 - - [23/Aug/2019 04:47:50] \"\u001b[37mGET /result HTTP/1.1\u001b[0m\" 200 -\n",
            "I0823 04:48:35.357769 140314216023808 _internal.py:122] 127.0.0.1 - - [23/Aug/2019 04:48:35] \"\u001b[37mGET / HTTP/1.1\u001b[0m\" 200 -\n",
            "I0823 04:48:59.709255 140314216023808 _internal.py:122] 127.0.0.1 - - [23/Aug/2019 04:48:59] \"\u001b[33mGET /api?q=C%3A%5Cfakepath%5Cairplane7.png HTTP/1.1\u001b[0m\" 404 -\n"
          ],
          "name": "stderr"
        },
        {
          "output_type": "stream",
          "text": [
            "airplane7.png\n",
            "airplane7.png\n"
          ],
          "name": "stdout"
        },
        {
          "output_type": "stream",
          "text": [
            "I0823 04:49:00.366384 140314216023808 _internal.py:122] 127.0.0.1 - - [23/Aug/2019 04:49:00] \"\u001b[32mPOST / HTTP/1.1\u001b[0m\" 302 -\n"
          ],
          "name": "stderr"
        },
        {
          "output_type": "stream",
          "text": [
            "[[0. 0. 1. 0. 0. 0. 0. 0. 0. 0. 0. 0. 0. 0. 0.]]\n"
          ],
          "name": "stdout"
        },
        {
          "output_type": "stream",
          "text": [
            "I0823 04:49:00.587077 140314216023808 _internal.py:122] 127.0.0.1 - - [23/Aug/2019 04:49:00] \"\u001b[37mGET /result HTTP/1.1\u001b[0m\" 200 -\n",
            "I0823 04:49:02.274737 140314216023808 _internal.py:122] 127.0.0.1 - - [23/Aug/2019 04:49:02] \"\u001b[37mGET / HTTP/1.1\u001b[0m\" 200 -\n",
            "I0823 04:49:33.649118 140314216023808 _internal.py:122] 127.0.0.1 - - [23/Aug/2019 04:49:33] \"\u001b[33mGET /api?q=C%3A%5Cfakepath%5Ctest1.jpg HTTP/1.1\u001b[0m\" 404 -\n"
          ],
          "name": "stderr"
        },
        {
          "output_type": "stream",
          "text": [
            "test1.jpg\n",
            "test1.jpg\n"
          ],
          "name": "stdout"
        },
        {
          "output_type": "stream",
          "text": [
            "I0823 04:49:34.371789 140314216023808 _internal.py:122] 127.0.0.1 - - [23/Aug/2019 04:49:34] \"\u001b[32mPOST / HTTP/1.1\u001b[0m\" 302 -\n"
          ],
          "name": "stderr"
        },
        {
          "output_type": "stream",
          "text": [
            "[[0. 0. 0. 0. 1. 0. 0. 0. 0. 0. 0. 0. 0. 0. 0.]]\n"
          ],
          "name": "stdout"
        },
        {
          "output_type": "stream",
          "text": [
            "I0823 04:49:34.587304 140314216023808 _internal.py:122] 127.0.0.1 - - [23/Aug/2019 04:49:34] \"\u001b[37mGET /result HTTP/1.1\u001b[0m\" 200 -\n"
          ],
          "name": "stderr"
        }
      ]
    },
    {
      "cell_type": "markdown",
      "metadata": {
        "id": "KZZDfcFF-S0c",
        "colab_type": "text"
      },
      "source": [
        "#バックアップ"
      ]
    },
    {
      "cell_type": "code",
      "metadata": {
        "id": "MZVhvb-9-RTZ",
        "colab_type": "code",
        "colab": {}
      },
      "source": [
        "!cp -R ./learned_data ./drive/My\\ Drive\n",
        "!cp dataset.npy ./drive/My\\ Drive"
      ],
      "execution_count": 0,
      "outputs": []
    }
  ]
}