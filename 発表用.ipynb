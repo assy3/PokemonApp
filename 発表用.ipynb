{
  "nbformat": 4,
  "nbformat_minor": 0,
  "metadata": {
    "colab": {
      "name": "ポケモンタイプ学習.ipynb のコピー",
      "version": "0.3.2",
      "provenance": [],
      "toc_visible": true,
      "machine_shape": "hm",
      "include_colab_link": true
    },
    "kernelspec": {
      "name": "python3",
      "display_name": "Python 3"
    },
    "accelerator": "GPU"
  },
  "cells": [
    {
      "cell_type": "markdown",
      "metadata": {
        "id": "view-in-github",
        "colab_type": "text"
      },
      "source": [
        "<a href=\"https://colab.research.google.com/github/nalgo-intern/team-b/blob/master/%E7%99%BA%E8%A1%A8%E7%94%A8.ipynb\" target=\"_parent\"><img src=\"https://colab.research.google.com/assets/colab-badge.svg\" alt=\"Open In Colab\"/></a>"
      ]
    },
    {
      "cell_type": "markdown",
      "metadata": {
        "id": "dI3qEKO9RZzG",
        "colab_type": "text"
      },
      "source": [
        "#driveからデータを取得"
      ]
    },
    {
      "cell_type": "code",
      "metadata": {
        "id": "s2qcKtYZOdvE",
        "colab_type": "code",
        "outputId": "59e98472-c896-4db6-9b32-814f39a253c6",
        "colab": {
          "base_uri": "https://localhost:8080/",
          "height": 122
        }
      },
      "source": [
        "from google.colab import drive\n",
        "drive.mount('/content/drive')"
      ],
      "execution_count": 0,
      "outputs": [
        {
          "output_type": "stream",
          "text": [
            "Go to this URL in a browser: https://accounts.google.com/o/oauth2/auth?client_id=947318989803-6bn6qk8qdgf4n4g3pfee6491hc0brc4i.apps.googleusercontent.com&redirect_uri=urn%3Aietf%3Awg%3Aoauth%3A2.0%3Aoob&scope=email%20https%3A%2F%2Fwww.googleapis.com%2Fauth%2Fdocs.test%20https%3A%2F%2Fwww.googleapis.com%2Fauth%2Fdrive%20https%3A%2F%2Fwww.googleapis.com%2Fauth%2Fdrive.photos.readonly%20https%3A%2F%2Fwww.googleapis.com%2Fauth%2Fpeopleapi.readonly&response_type=code\n",
            "\n",
            "Enter your authorization code:\n",
            "··········\n",
            "Mounted at /content/drive\n"
          ],
          "name": "stdout"
        }
      ]
    },
    {
      "cell_type": "code",
      "metadata": {
        "id": "tHku4nfJX1wN",
        "colab_type": "code",
        "colab": {}
      },
      "source": [
        "#先にGoogle Driveで https://drive.google.com/drive/folders/1DxqM2rP85xaSXRiRfdnLjIJgA-4_U112?usp=sharing をマイドライブにコピーしておくこと \n",
        "!cp -R /content/drive/My\\ Drive/learned_data* /content/"
      ],
      "execution_count": 0,
      "outputs": []
    },
    {
      "cell_type": "markdown",
      "metadata": {
        "id": "dJRWe0opTFHp",
        "colab_type": "text"
      },
      "source": [
        "#サーバーを起動"
      ]
    },
    {
      "cell_type": "code",
      "metadata": {
        "id": "aqugOtt83x22",
        "colab_type": "code",
        "outputId": "352c5df1-5088-4615-b608-e5357082c8b0",
        "colab": {
          "base_uri": "https://localhost:8080/",
          "height": 272
        }
      },
      "source": [
        "!wget https://bin.equinox.io/c/4VmDzA7iaHb/ngrok-stable-linux-amd64.zip\n",
        "!unzip ngrok-stable-linux-amd64.zip\n",
        "!mkdir uploads"
      ],
      "execution_count": 0,
      "outputs": [
        {
          "output_type": "stream",
          "text": [
            "--2019-08-30 01:11:21--  https://bin.equinox.io/c/4VmDzA7iaHb/ngrok-stable-linux-amd64.zip\n",
            "Resolving bin.equinox.io (bin.equinox.io)... 52.72.245.79, 52.200.233.201, 52.3.53.115, ...\n",
            "Connecting to bin.equinox.io (bin.equinox.io)|52.72.245.79|:443... connected.\n",
            "HTTP request sent, awaiting response... 200 OK\n",
            "Length: 13607069 (13M) [application/octet-stream]\n",
            "Saving to: ‘ngrok-stable-linux-amd64.zip.9’\n",
            "\n",
            "\r          ngrok-sta   0%[                    ]       0  --.-KB/s               \rngrok-stable-linux- 100%[===================>]  12.98M  74.5MB/s    in 0.2s    \n",
            "\n",
            "2019-08-30 01:11:21 (74.5 MB/s) - ‘ngrok-stable-linux-amd64.zip.9’ saved [13607069/13607069]\n",
            "\n",
            "Archive:  ngrok-stable-linux-amd64.zip\n",
            "replace ngrok? [y]es, [n]o, [A]ll, [N]one, [r]ename: y\n",
            "  inflating: ngrok                   \n",
            "mkdir: cannot create directory ‘uploads’: File exists\n"
          ],
          "name": "stdout"
        }
      ]
    },
    {
      "cell_type": "code",
      "metadata": {
        "id": "Mw9byOw5KKYY",
        "colab_type": "code",
        "outputId": "8d4bda49-f40e-431e-e437-15e009c15112",
        "colab": {
          "base_uri": "https://localhost:8080/",
          "height": 714
        }
      },
      "source": [
        "get_ipython().system_raw('./ngrok http 6006 &')\n",
        "! curl -s http://localhost:4040/api/tunnels | python3 -c \\\n",
        "    \"import sys, json; print(json.load(sys.stdin)['tunnels'][0]['public_url'])\"\n",
        "import os\n",
        "import json\n",
        "# request フォームから送信した情報を扱うためのモジュール\n",
        "# redirect  ページの移動\n",
        "# url_for アドレス遷移\n",
        "from flask import Flask, request, redirect, url_for\n",
        "# ファイル名をチェックする関数\n",
        "from werkzeug.utils import secure_filename\n",
        "# 画像のダウンロード\n",
        "from flask import send_from_directory\n",
        "\n",
        "from keras import models\n",
        "import numpy as np\n",
        "from keras.preprocessing import image\n",
        "from keras.models import model_from_json\n",
        "from keras import backend as K\n",
        "\n",
        "# 画像のアップロード先のディレクトリ\n",
        "UPLOAD_FOLDER = './uploads'\n",
        "# アップロードされる拡張子の制限\n",
        "ALLOWED_EXTENSIONS = set(['png', 'jpg', 'gif'])\n",
        "\n",
        "app = Flask(__name__)\n",
        "\n",
        "app.config['UPLOAD_FOLDER'] = UPLOAD_FOLDER\n",
        "\n",
        "\n",
        "def gosanke_func(img_path):\n",
        "    K.clear_session()\n",
        "    gosanke =(\"フシギダネ\", \"ヒトカゲ\", \"ゼニガメ\",\n",
        "          \"チコリータ\", \"ヒノアラシ\", \"ワニノコ\",\n",
        "          \"キモリ\", \"アチャモ\", \"ミズゴロウ\",\n",
        "          \"ナエトル\", \"ヒコザル\", \"ポッチャマ\",\n",
        "          \"ツタージャ\", \"ポカブ\", \"ミジュマル\",\n",
        "          \"ハリマロン\", \"フォッコ\", \"ケロマツ\",\n",
        "          \"モクロー\", \"ニャビー\", \"アシマリ\",\n",
        "          \"サルノリ\", \"ヒバニー\", \"メッソン\")\n",
        "\n",
        "    model = model_from_json(open('./learned_data_gosanke/data_gosanke.json').read())\n",
        "    model.load_weights('./learned_data_gosanke/data_gosanke.hdf5')\n",
        "\n",
        "    img_path = img_path \n",
        "    img = image.load_img(img_path, target_size=(120,120,3))\n",
        "    x = image.img_to_array(img)\n",
        "    x = np.expand_dims(x, axis=0)\n",
        "\n",
        "    features = model.predict(x)\n",
        "    i = np.argmax(features[0])\n",
        "\n",
        "    output = gosanke[i] \n",
        "\n",
        "    return output\n",
        "    \n",
        "def type_func(img_path):    \n",
        "    K.clear_session()\n",
        "    types = (\"ノーマル\", \"ほのお\", \"みず\", \"くさ\", \"でんき\", \"こおり\", \"かくとう\", \"どく\", \"じめん\", \"ひこう\", \"エスパー\", \"むし\", \"いわ\", \"ゴースト\", \"ドラゴン\")\n",
        "\n",
        "    model = model_from_json(open('./learned_data/data.json').read())\n",
        "    model.load_weights('./learned_data/data.hdf5')\n",
        "\n",
        "    img_path = img_path \n",
        "    img = image.load_img(img_path, target_size=(120,120,3))\n",
        "    x = image.img_to_array(img)\n",
        "    x = np.expand_dims(x, axis=0)\n",
        "\n",
        "    features = model.predict(x)\n",
        "    i = np.argmax(features[0])\n",
        "\n",
        "    output = types[i] \n",
        "    \n",
        "    return output\n",
        "    \n",
        "def result_func(filepath):\n",
        "    gosanke_result = gosanke_func(filepath)\n",
        "    type_result = type_func(filepath)\n",
        "    return gosanke_result, type_result\n",
        "\n",
        "\n",
        "def allwed_file(filename):\n",
        "    # .があるかどうかのチェックと、拡張子の確認\n",
        "    # OKなら１、だめなら0\n",
        "    return '.' in filename and filename.rsplit('.', 1)[1].lower() in ALLOWED_EXTENSIONS\n",
        "\n",
        "    # ファイルを受け取る方法の指定\n",
        "@app.route('/', methods=['GET', 'POST'])\n",
        "def uploads_file():\n",
        "    # リクエストがポストかどうかの判別\n",
        "    if request.method == 'POST':\n",
        "        # ファイルがなかった場合の処理\n",
        "        if 'file' not in request.files:\n",
        "            # flash('ファイルがありません')\n",
        "            return redirect(request.url)\n",
        "        # データの取り出し\n",
        "        file = request.files['file']\n",
        "        # ファイル名がなかった時の処理\n",
        "        if file.filename == '':\n",
        "            # flash('ファイルがありません')\n",
        "            return redirect(request.url)\n",
        "        # ファイルのチェック\n",
        "        if file and allwed_file(file.filename):\n",
        "            # 危険な文字を削除（サニタイズ処理）\n",
        "            global filename\n",
        "            filename = secure_filename(file.filename)\n",
        "            # ファイルの保存\n",
        "            file.save(os.path.join(app.config['UPLOAD_FOLDER'], filename))\n",
        "            # アップロード後のページに転送\n",
        "            print(file.filename)\n",
        "            print(filename)\n",
        "            \n",
        "            # 関数呼び出し ポケモンの属性を文字で返す\n",
        "            global target_path \n",
        "            target_path = \"./uploads/\" + filename\n",
        "\n",
        "            global result_name\n",
        "            global result_type\n",
        "            result_name, result_type = result_func(target_path)\n",
        "            \n",
        "            return redirect(url_for('result'))\n",
        "\n",
        "    return '''\n",
        "    <!doctype html>\n",
        "    <html>\n",
        "        <head>\n",
        "            <meta charset=\"UTF-8\">\n",
        "            <title>\n",
        "                ポケモンタイプ診断\n",
        "            </title>\n",
        "            <link rel=\"stylesheet\" href=\"./uploads/toppage.css\">\n",
        "        </head>\n",
        "\n",
        "        <body> \n",
        "            <img src=\"./uploads/pokemon.jpg\">\n",
        "            <h1>\n",
        "                ファイルをアップロードしてポケモンのタイプを判定しよう\n",
        "            </h1>\n",
        "            <ul>\n",
        "                <li><b>好きな画像をアップロードしてみよう！</b></li>\n",
        "                <li><b>その画像が何タイプなのかAIが教えてくれるよ</b></li>\n",
        "                <li><b>タイプは全部で15種類！</b></li>\n",
        "                <li><b>Let's Try!</b></li>\n",
        "            </ul>\n",
        "            <form method = post enctype = multipart/form-data>\n",
        "            <p><input type=file class=\"q\" name = file>\n",
        "            <input type = submit class=\"qButton\" value = 調べる>\n",
        "            <div id=\"result\"></div>\n",
        "            </form>\n",
        "\n",
        "            <script>\n",
        "                const qs = (q) => document.querySelector(q)\n",
        "                window.onload = () => {\n",
        "                const q = qs('#q')\n",
        "                const qButton = qs('#qButton')\n",
        "                const result = qs('#result')\n",
        "                // 判定ボタンを押した時 --- (*1)\n",
        "                qButton.onclick = () => {\n",
        "                    result.innerHTML = \"...\"\n",
        "                    // APIサーバに送信するURLを構築 --- (*2)\n",
        "                    const api = \"/api?q=\" + \n",
        "                    encodeURIComponent(q.value)\n",
        "                    // APIにアクセス --- (*3)\n",
        "                    fetch(api).then((res) => {\n",
        "                    return res.json() // JSONで返す\n",
        "                    }).then((data) => {\n",
        "                    // 結果を画面に表示 --- (*4)\n",
        "                    result.innerHTML =\n",
        "                        data[\"label\"] + \n",
        "                        \"<span style='font-size:0.5em'>(\" + \n",
        "                        data[\"per\"] + \")</span>\"\n",
        "                    })\n",
        "                }\n",
        "                }\n",
        "            </script>\n",
        "        </body>\n",
        "'''\n",
        "\n",
        "@app.route('/uploads/<filename>')\n",
        "# ファイルを表示する\n",
        "def uploaded_file(filename):\n",
        "    return send_from_directory(app.config['UPLOAD_FOLDER'], filename)\n",
        "\n",
        "# resultした場合 \n",
        "@app.route('/result', methods=['GET'])\n",
        "def result():\n",
        "    result_format = \"\"\"\n",
        "    <!DOCTYPE html>\n",
        "    <html>\n",
        "    <head><meta charset=\"UTF-8\"><title>ポケモンタイプ</title>\n",
        "    <link rel=\"stylesheet\" href=\"./uploads/resultpage.css\">\n",
        "    </head>\n",
        "    <body>\n",
        "        <div align=\"center\" class=\"main\">\n",
        "            <img src=\"{0}\">\n",
        "            \n",
        "            <h1>結果画面</h1>\n",
        "            <div align=\"center\">\n",
        "                <br>\n",
        "                <h2>この画像は<font color=\"red\">{2}</font>タイプです</h2>\n",
        "                <br>\n",
        "                <h2>この画像は<font color=\"red\">{1}</font>に似てます</h2>\n",
        "            </div>\n",
        "            \n",
        "            <b><a href=\"/\" class=\"btn-gradient-3d-orange\">もう一度調べる</a></b><br>\n",
        "            \n",
        "                <div id=\"social-platforms\">\n",
        "                <b><p>結果をSNSでシェアする</p></b>\n",
        "                <a class=\"btn btn-icon btn-facebook\" href=\"https://www.facebook.com/\"><i class=\"fa fa-facebook\"></i><span>Facebook</span></a>\n",
        "                <a class=\"btn btn-icon btn-twitter\" href=\"https://twitter.com/?lang=ja\"><i class=\"fa fa-twitter\"></i><span>Twitter</span></a>\n",
        "                <a class=\"btn btn-icon btn-googleplus\" href=\"https://plus.google.com/about?hl=ja\"><i class=\"fa fa-google-plus\"></i><span>Google+</span></a>\n",
        "                <a class=\"btn btn-icon btn-pinterest\" href=\"https://www.pinterest.jp/\"><i class=\"fa fa-pinterest\"></i><span>Pinterest</span></a>\n",
        "                <a class=\"btn btn-icon btn-linkedin\" href=\"https://www.linkedin.com/\"><i class=\"fa fa-linkedin\"></i><span>LinkedIn</span></a>\n",
        "                </div>\n",
        "\n",
        "\n",
        "        </div>\n",
        "    </body>\n",
        "    </html>\n",
        "    \"\"\".format(target_path, result_name, result_type)\n",
        "    return result_format \n",
        "\n",
        "if __name__ == '__main__':\n",
        "    app.run(port=6006)"
      ],
      "execution_count": 0,
      "outputs": [
        {
          "output_type": "stream",
          "text": [
            "https://7da0aa35.ngrok.io\n",
            " * Serving Flask app \"__main__\" (lazy loading)\n",
            " * Environment: production\n",
            "   WARNING: This is a development server. Do not use it in a production deployment.\n",
            "   Use a production WSGI server instead.\n",
            " * Debug mode: off\n"
          ],
          "name": "stdout"
        },
        {
          "output_type": "stream",
          "text": [
            "I0830 01:51:27.408204 140021820999552 _internal.py:122]  * Running on http://127.0.0.1:6006/ (Press CTRL+C to quit)\n",
            "I0830 01:51:30.303525 140020087957248 _internal.py:122] 127.0.0.1 - - [30/Aug/2019 01:51:30] \"\u001b[37mGET / HTTP/1.1\u001b[0m\" 200 -\n",
            "I0830 01:51:30.562394 140018733491968 _internal.py:122] 127.0.0.1 - - [30/Aug/2019 01:51:30] \"\u001b[37mGET /uploads/pokemon.jpg HTTP/1.1\u001b[0m\" 200 -\n",
            "I0830 01:51:30.563572 140020087957248 _internal.py:122] 127.0.0.1 - - [30/Aug/2019 01:51:30] \"\u001b[37mGET /uploads/toppage.css HTTP/1.1\u001b[0m\" 200 -\n",
            "I0830 01:51:30.879546 140020087957248 _internal.py:122] 127.0.0.1 - - [30/Aug/2019 01:51:30] \"\u001b[33mGET /favicon.ico HTTP/1.1\u001b[0m\" 404 -\n"
          ],
          "name": "stderr"
        },
        {
          "output_type": "stream",
          "text": [
            "18.jpg\n",
            "18.jpg\n"
          ],
          "name": "stdout"
        },
        {
          "output_type": "stream",
          "text": [
            "E0830 01:51:35.514176 140020087957248 app.py:1891] Exception on / [POST]\n",
            "Traceback (most recent call last):\n",
            "  File \"/usr/local/lib/python3.6/dist-packages/flask/app.py\", line 2446, in wsgi_app\n",
            "    response = self.full_dispatch_request()\n",
            "  File \"/usr/local/lib/python3.6/dist-packages/flask/app.py\", line 1951, in full_dispatch_request\n",
            "    rv = self.handle_user_exception(e)\n",
            "  File \"/usr/local/lib/python3.6/dist-packages/flask/app.py\", line 1820, in handle_user_exception\n",
            "    reraise(exc_type, exc_value, tb)\n",
            "  File \"/usr/local/lib/python3.6/dist-packages/flask/_compat.py\", line 39, in reraise\n",
            "    raise value\n",
            "  File \"/usr/local/lib/python3.6/dist-packages/flask/app.py\", line 1949, in full_dispatch_request\n",
            "    rv = self.dispatch_request()\n",
            "  File \"/usr/local/lib/python3.6/dist-packages/flask/app.py\", line 1935, in dispatch_request\n",
            "    return self.view_functions[rule.endpoint](**req.view_args)\n",
            "  File \"<ipython-input-31-0a6f4ca5d388>\", line 118, in uploads_file\n",
            "    result_name, result_type = result_func(target_path)\n",
            "  File \"<ipython-input-31-0a6f4ca5d388>\", line 77, in result_func\n",
            "    type_result = type_func(filepath)\n",
            "  File \"<ipython-input-31-0a6f4ca5d388>\", line 68, in type_func\n",
            "    features = model.predict(x)\n",
            "  File \"/usr/local/lib/python3.6/dist-packages/keras/engine/training.py\", line 1380, in predict\n",
            "    x, _, _ = self._standardize_user_data(x)\n",
            "  File \"/usr/local/lib/python3.6/dist-packages/keras/engine/training.py\", line 757, in _standardize_user_data\n",
            "    exception_prefix='input')\n",
            "  File \"/usr/local/lib/python3.6/dist-packages/keras/engine/training_utils.py\", line 141, in standardize_input_data\n",
            "    str(data_shape))\n",
            "ValueError: Error when checking input: expected conv2d_1_input to have shape (250, 250, 3) but got array with shape (120, 120, 3)\n",
            "I0830 01:51:35.519489 140020087957248 _internal.py:122] 127.0.0.1 - - [30/Aug/2019 01:51:35] \"\u001b[1m\u001b[35mPOST / HTTP/1.1\u001b[0m\" 500 -\n"
          ],
          "name": "stderr"
        }
      ]
    },
    {
      "cell_type": "markdown",
      "metadata": {
        "id": "KZZDfcFF-S0c",
        "colab_type": "text"
      },
      "source": [
        "#バックアップ"
      ]
    },
    {
      "cell_type": "code",
      "metadata": {
        "id": "MZVhvb-9-RTZ",
        "colab_type": "code",
        "colab": {}
      },
      "source": [
        "!cp -R ./learned_data ./drive/My\\ Drive\n",
        "!cp dataset.npy ./drive/My\\ Drive"
      ],
      "execution_count": 0,
      "outputs": []
    },
    {
      "cell_type": "code",
      "metadata": {
        "id": "DIDoE49HCY_4",
        "colab_type": "code",
        "colab": {}
      },
      "source": [
        "!locale -a | grep ja"
      ],
      "execution_count": 0,
      "outputs": []
    }
  ]
}